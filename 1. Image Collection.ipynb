{
 "cells": [
  {
   "cell_type": "markdown",
   "metadata": {},
   "source": [
    "# 1. Import Dependencies"
   ]
  },
  {
   "cell_type": "code",
   "execution_count": 1,
   "metadata": {},
   "outputs": [
    {
     "name": "stdout",
     "output_type": "stream",
     "text": [
      "Collecting opencv-python\n",
      "  Downloading opencv_python-4.5.5.64-cp36-abi3-macosx_10_15_x86_64.whl (46.3 MB)\n",
      "\u001b[2K     \u001b[90m━━━━━━━━━━━━━━━━━━━━━━━━━━━━━━━━━━━━━━━━\u001b[0m \u001b[32m46.3/46.3 MB\u001b[0m \u001b[31m5.1 MB/s\u001b[0m eta \u001b[36m0:00:00\u001b[0m00:01\u001b[0m00:01\u001b[0m\n",
      "\u001b[?25hCollecting numpy>=1.14.5\n",
      "  Downloading numpy-1.22.3-cp39-cp39-macosx_10_14_x86_64.whl (17.6 MB)\n",
      "\u001b[2K     \u001b[90m━━━━━━━━━━━━━━━━━━━━━━━━━━━━━━━━━━━━━━━━\u001b[0m \u001b[32m17.6/17.6 MB\u001b[0m \u001b[31m5.1 MB/s\u001b[0m eta \u001b[36m0:00:00\u001b[0m00:01\u001b[0m00:01\u001b[0m\n",
      "\u001b[?25hInstalling collected packages: numpy, opencv-python\n",
      "Successfully installed numpy-1.22.3 opencv-python-4.5.5.64\n"
     ]
    }
   ],
   "source": [
    "!pip install opencv-python"
   ]
  },
  {
   "cell_type": "code",
   "execution_count": 2,
   "metadata": {},
   "outputs": [],
   "source": [
    "# Import opencv\n",
    "import cv2 \n",
    "\n",
    "# Import uuid\n",
    "import uuid\n",
    "\n",
    "# Import Operating System\n",
    "import os\n",
    "\n",
    "# Import time\n",
    "import time"
   ]
  },
  {
   "cell_type": "markdown",
   "metadata": {},
   "source": [
    "# 2. Define Images to Collect"
   ]
  },
  {
   "cell_type": "code",
   "execution_count": 17,
   "metadata": {},
   "outputs": [],
   "source": [
    "labels = ['thumbsup', 'thumbsdown', 'thankyou', 'livelong', 'westside']\n",
    "number_imgs = 5"
   ]
  },
  {
   "cell_type": "markdown",
   "metadata": {},
   "source": [
    "# 3. Setup Folders "
   ]
  },
  {
   "cell_type": "code",
   "execution_count": 18,
   "metadata": {},
   "outputs": [],
   "source": [
    "IMAGES_PATH = os.path.join('Tensorflow', 'workspace', 'images', 'collectedimages')"
   ]
  },
  {
   "cell_type": "code",
   "execution_count": 19,
   "metadata": {},
   "outputs": [],
   "source": [
    "if not os.path.exists(IMAGES_PATH):\n",
    "    if os.name == 'posix':\n",
    "        !mkdir -p {IMAGES_PATH}\n",
    "    if os.name == 'nt':\n",
    "         !mkdir {IMAGES_PATH}\n",
    "for label in labels:\n",
    "    path = os.path.join(IMAGES_PATH, label)\n",
    "    if not os.path.exists(path):\n",
    "        !mkdir {path}"
   ]
  },
  {
   "cell_type": "markdown",
   "metadata": {},
   "source": [
    "# 4. Capture Images"
   ]
  },
  {
   "cell_type": "code",
   "execution_count": 20,
   "metadata": {},
   "outputs": [
    {
     "name": "stdout",
     "output_type": "stream",
     "text": [
      "Collecting images for livelong\n",
      "Collecting image 0\n",
      "Collecting image 1\n",
      "Collecting image 2\n",
      "Collecting image 3\n",
      "Collecting image 4\n",
      "Collecting images for thumbsup\n",
      "Collecting image 0\n",
      "Collecting image 1\n",
      "Collecting image 2\n",
      "Collecting image 3\n",
      "Collecting image 4\n",
      "Collecting images for westside\n",
      "Collecting image 0\n",
      "Collecting image 1\n",
      "Collecting image 2\n",
      "Collecting image 3\n",
      "Collecting image 4\n"
     ]
    }
   ],
   "source": [
    "for label in labels:\n",
    "    cap = cv2.VideoCapture(0)\n",
    "    print('Collecting images for {}'.format(label))\n",
    "    time.sleep(5)\n",
    "    for imgnum in range(number_imgs):\n",
    "        print('Collecting image {}'.format(imgnum))\n",
    "        ret, frame = cap.read()\n",
    "        imgname = os.path.join(IMAGES_PATH,label,label+'.'+'{}.jpg'.format(str(uuid.uuid1())))\n",
    "        cv2.imwrite(imgname, frame)\n",
    "        cv2.imshow('frame', frame)\n",
    "        time.sleep(2)\n",
    "\n",
    "        if cv2.waitKey(1) & 0xFF == ord('q'):\n",
    "            break\n",
    "cap.release()\n",
    "cv2.destroyAllWindows()"
   ]
  },
  {
   "cell_type": "markdown",
   "metadata": {},
   "source": [
    "# 5. Image Labelling"
   ]
  },
  {
   "cell_type": "code",
   "execution_count": 21,
   "metadata": {},
   "outputs": [
    {
     "name": "stdout",
     "output_type": "stream",
     "text": [
      "Requirement already satisfied: pyqt5 in ./tfod/lib/python3.9/site-packages (5.15.6)\n",
      "Requirement already satisfied: lxml in ./tfod/lib/python3.9/site-packages (4.8.0)\n",
      "Requirement already satisfied: PyQt5-sip<13,>=12.8 in ./tfod/lib/python3.9/site-packages (from pyqt5) (12.10.1)\n",
      "Requirement already satisfied: PyQt5-Qt5>=5.15.2 in ./tfod/lib/python3.9/site-packages (from pyqt5) (5.15.2)\n"
     ]
    }
   ],
   "source": [
    "!pip install --upgrade pyqt5 lxml"
   ]
  },
  {
   "cell_type": "code",
   "execution_count": 22,
   "metadata": {},
   "outputs": [],
   "source": [
    "LABELIMG_PATH = os.path.join('Tensorflow', 'labelimg')"
   ]
  },
  {
   "cell_type": "code",
   "execution_count": 23,
   "metadata": {},
   "outputs": [],
   "source": [
    "if not os.path.exists(LABELIMG_PATH):\n",
    "    !mkdir {LABELIMG_PATH}\n",
    "    !git clone https://github.com/tzutalin/labelImg {LABELIMG_PATH}"
   ]
  },
  {
   "cell_type": "code",
   "execution_count": 24,
   "metadata": {},
   "outputs": [
    {
     "name": "stdout",
     "output_type": "stream",
     "text": [
      "pyrcc5 -o libs/resources.py resources.qrc\r\n"
     ]
    }
   ],
   "source": [
    "if os.name == 'posix':\n",
    "    !cd {LABELIMG_PATH} && make qt5py3\n",
    "if os.name =='nt':\n",
    "    !cd {LABELIMG_PATH} && pyrcc5 -o libs/resources.py resources.qrc"
   ]
  },
  {
   "cell_type": "code",
   "execution_count": null,
   "metadata": {},
   "outputs": [
    {
     "name": "stdout",
     "output_type": "stream",
     "text": [
      "Image:/Users/amyasinghal/Downloads/Object Detection/TFODCourse/Tensorflow/workspace/images/collectedimages/livelong/livelong.0cbf555a-bebe-11ec-abec-1e00f1227836.jpg -> Annotation:/Users/amyasinghal/Downloads/Object Detection/TFODCourse/Tensorflow/workspace/images/collectedimages/livelong/livelong.0cbf555a-bebe-11ec-abec-1e00f1227836.xml\n",
      "Image:/Users/amyasinghal/Downloads/Object Detection/TFODCourse/Tensorflow/workspace/images/collectedimages/livelong/livelong.0dffa7bc-bebe-11ec-abec-1e00f1227836.jpg -> Annotation:/Users/amyasinghal/Downloads/Object Detection/TFODCourse/Tensorflow/workspace/images/collectedimages/livelong/livelong.0dffa7bc-bebe-11ec-abec-1e00f1227836.xml\n",
      "Image:/Users/amyasinghal/Downloads/Object Detection/TFODCourse/Tensorflow/workspace/images/collectedimages/livelong/livelong.4a3e7888-bebf-11ec-abec-1e00f1227836.jpg -> Annotation:/Users/amyasinghal/Downloads/Object Detection/TFODCourse/Tensorflow/workspace/images/collectedimages/livelong/livelong.4a3e7888-bebf-11ec-abec-1e00f1227836.xml\n",
      "Image:/Users/amyasinghal/Downloads/Object Detection/TFODCourse/Tensorflow/workspace/images/collectedimages/livelong/livelong.4b7ec568-bebf-11ec-abec-1e00f1227836.jpg -> Annotation:/Users/amyasinghal/Downloads/Object Detection/TFODCourse/Tensorflow/workspace/images/collectedimages/livelong/livelong.4b7ec568-bebf-11ec-abec-1e00f1227836.xml\n",
      "Image:/Users/amyasinghal/Downloads/Object Detection/TFODCourse/Tensorflow/workspace/images/collectedimages/livelong/livelong.47bd0a66-bebf-11ec-abec-1e00f1227836.jpg -> Annotation:/Users/amyasinghal/Downloads/Object Detection/TFODCourse/Tensorflow/workspace/images/collectedimages/livelong/livelong.47bd0a66-bebf-11ec-abec-1e00f1227836.xml\n",
      "Image:/Users/amyasinghal/Downloads/Object Detection/TFODCourse/Tensorflow/workspace/images/collectedimages/livelong/livelong.48fe937c-bebf-11ec-abec-1e00f1227836.jpg -> Annotation:/Users/amyasinghal/Downloads/Object Detection/TFODCourse/Tensorflow/workspace/images/collectedimages/livelong/livelong.48fe937c-bebf-11ec-abec-1e00f1227836.xml\n",
      "Image:/Users/amyasinghal/Downloads/Object Detection/TFODCourse/Tensorflow/workspace/images/collectedimages/livelong/livelong.0903810c-bebe-11ec-abec-1e00f1227836.jpg -> Annotation:/Users/amyasinghal/Downloads/Object Detection/TFODCourse/Tensorflow/workspace/images/collectedimages/livelong/livelong.0903810c-bebe-11ec-abec-1e00f1227836.xml\n",
      "Image:/Users/amyasinghal/Downloads/Object Detection/TFODCourse/Tensorflow/workspace/images/collectedimages/livelong/livelong.46789026-bebf-11ec-abec-1e00f1227836.jpg -> Annotation:/Users/amyasinghal/Downloads/Object Detection/TFODCourse/Tensorflow/workspace/images/collectedimages/livelong/livelong.46789026-bebf-11ec-abec-1e00f1227836.xml\n",
      "Image:/Users/amyasinghal/Downloads/Object Detection/TFODCourse/Tensorflow/workspace/images/collectedimages/thankyou/thankyou.00ed7900-bebe-11ec-abec-1e00f1227836.jpg -> Annotation:/Users/amyasinghal/Downloads/Object Detection/TFODCourse/Tensorflow/workspace/images/collectedimages/thankyou/thankyou.00ed7900-bebe-11ec-abec-1e00f1227836.xml\n",
      "Image:/Users/amyasinghal/Downloads/Object Detection/TFODCourse/Tensorflow/workspace/images/collectedimages/thankyou/thankyou.04aee498-bebe-11ec-abec-1e00f1227836.jpg -> Annotation:/Users/amyasinghal/Downloads/Object Detection/TFODCourse/Tensorflow/workspace/images/collectedimages/thankyou/thankyou.04aee498-bebe-11ec-abec-1e00f1227836.xml\n",
      "Image:/Users/amyasinghal/Downloads/Object Detection/TFODCourse/Tensorflow/workspace/images/collectedimages/thankyou/thankyou.022dc270-bebe-11ec-abec-1e00f1227836.jpg -> Annotation:/Users/amyasinghal/Downloads/Object Detection/TFODCourse/Tensorflow/workspace/images/collectedimages/thankyou/thankyou.022dc270-bebe-11ec-abec-1e00f1227836.xml\n",
      "Image:/Users/amyasinghal/Downloads/Object Detection/TFODCourse/Tensorflow/workspace/images/collectedimages/thankyou/thankyou.ffad2aa4-bebd-11ec-abec-1e00f1227836.jpg -> Annotation:/Users/amyasinghal/Downloads/Object Detection/TFODCourse/Tensorflow/workspace/images/collectedimages/thankyou/thankyou.ffad2aa4-bebd-11ec-abec-1e00f1227836.xml\n",
      "Image:/Users/amyasinghal/Downloads/Object Detection/TFODCourse/Tensorflow/workspace/images/collectedimages/thumbsdown/thumbsdown.f8d8370a-bebd-11ec-abec-1e00f1227836.jpg -> Annotation:/Users/amyasinghal/Downloads/Object Detection/TFODCourse/Tensorflow/workspace/images/collectedimages/thumbsdown/thumbsdown.f8d8370a-bebd-11ec-abec-1e00f1227836.xml\n",
      "Image:/Users/amyasinghal/Downloads/Object Detection/TFODCourse/Tensorflow/workspace/images/collectedimages/thumbsdown/thumbsdown.f65826c0-bebd-11ec-abec-1e00f1227836.jpg -> Annotation:/Users/amyasinghal/Downloads/Object Detection/TFODCourse/Tensorflow/workspace/images/collectedimages/thumbsdown/thumbsdown.f65826c0-bebd-11ec-abec-1e00f1227836.xml\n",
      "Image:/Users/amyasinghal/Downloads/Object Detection/TFODCourse/Tensorflow/workspace/images/collectedimages/thumbsdown/thumbsdown.f7989510-bebd-11ec-abec-1e00f1227836.jpg -> Annotation:/Users/amyasinghal/Downloads/Object Detection/TFODCourse/Tensorflow/workspace/images/collectedimages/thumbsdown/thumbsdown.f7989510-bebd-11ec-abec-1e00f1227836.xml\n",
      "Image:/Users/amyasinghal/Downloads/Object Detection/TFODCourse/Tensorflow/workspace/images/collectedimages/thumbsdown/thumbsdown.fa17cf68-bebd-11ec-abec-1e00f1227836.jpg -> Annotation:/Users/amyasinghal/Downloads/Object Detection/TFODCourse/Tensorflow/workspace/images/collectedimages/thumbsdown/thumbsdown.fa17cf68-bebd-11ec-abec-1e00f1227836.xml\n",
      "Image:/Users/amyasinghal/Downloads/Object Detection/TFODCourse/Tensorflow/workspace/images/collectedimages/thumbsdown/thumbsdown.fb5949ba-bebd-11ec-abec-1e00f1227836.jpg -> Annotation:/Users/amyasinghal/Downloads/Object Detection/TFODCourse/Tensorflow/workspace/images/collectedimages/thumbsdown/thumbsdown.fb5949ba-bebd-11ec-abec-1e00f1227836.xml\n",
      "Image:/Users/amyasinghal/Downloads/Object Detection/TFODCourse/Tensorflow/workspace/images/collectedimages/thumbsup/thumbsup.4fd2ed74-bebf-11ec-abec-1e00f1227836.jpg -> Annotation:/Users/amyasinghal/Downloads/Object Detection/TFODCourse/Tensorflow/workspace/images/collectedimages/thumbsup/thumbsup.4fd2ed74-bebf-11ec-abec-1e00f1227836.xml\n",
      "Image:/Users/amyasinghal/Downloads/Object Detection/TFODCourse/Tensorflow/workspace/images/collectedimages/thumbsup/thumbsup.54d39cec-bebf-11ec-abec-1e00f1227836.jpg -> Annotation:/Users/amyasinghal/Downloads/Object Detection/TFODCourse/Tensorflow/workspace/images/collectedimages/thumbsup/thumbsup.54d39cec-bebf-11ec-abec-1e00f1227836.xml\n",
      "Image:/Users/amyasinghal/Downloads/Object Detection/TFODCourse/Tensorflow/workspace/images/collectedimages/thumbsup/thumbsup.5252fe2c-bebf-11ec-abec-1e00f1227836.jpg -> Annotation:/Users/amyasinghal/Downloads/Object Detection/TFODCourse/Tensorflow/workspace/images/collectedimages/thumbsup/thumbsup.5252fe2c-bebf-11ec-abec-1e00f1227836.xml\n",
      "Image:/Users/amyasinghal/Downloads/Object Detection/TFODCourse/Tensorflow/workspace/images/collectedimages/thumbsup/thumbsup.539413a2-bebf-11ec-abec-1e00f1227836.jpg -> Annotation:/Users/amyasinghal/Downloads/Object Detection/TFODCourse/Tensorflow/workspace/images/collectedimages/thumbsup/thumbsup.539413a2-bebf-11ec-abec-1e00f1227836.xml\n",
      "Image:/Users/amyasinghal/Downloads/Object Detection/TFODCourse/Tensorflow/workspace/images/collectedimages/thumbsup/thumbsup.51137762-bebf-11ec-abec-1e00f1227836.jpg -> Annotation:/Users/amyasinghal/Downloads/Object Detection/TFODCourse/Tensorflow/workspace/images/collectedimages/thumbsup/thumbsup.51137762-bebf-11ec-abec-1e00f1227836.xml\n",
      "Image:/Users/amyasinghal/Downloads/Object Detection/TFODCourse/Tensorflow/workspace/images/collectedimages/thumbsup/thumbsup.ef7e5a9a-bebd-11ec-abec-1e00f1227836.jpg -> Annotation:/Users/amyasinghal/Downloads/Object Detection/TFODCourse/Tensorflow/workspace/images/collectedimages/thumbsup/thumbsup.ef7e5a9a-bebd-11ec-abec-1e00f1227836.xml\n",
      "Image:/Users/amyasinghal/Downloads/Object Detection/TFODCourse/Tensorflow/workspace/images/collectedimages/thumbsup/thumbsup.f0be32fe-bebd-11ec-abec-1e00f1227836.jpg -> Annotation:/Users/amyasinghal/Downloads/Object Detection/TFODCourse/Tensorflow/workspace/images/collectedimages/thumbsup/thumbsup.f0be32fe-bebd-11ec-abec-1e00f1227836.xml\n"
     ]
    },
    {
     "name": "stdout",
     "output_type": "stream",
     "text": [
      "Image:/Users/amyasinghal/Downloads/Object Detection/TFODCourse/Tensorflow/workspace/images/collectedimages/thumbsup/thumbsup.f1fea180-bebd-11ec-abec-1e00f1227836.jpg -> Annotation:/Users/amyasinghal/Downloads/Object Detection/TFODCourse/Tensorflow/workspace/images/collectedimages/thumbsup/thumbsup.f1fea180-bebd-11ec-abec-1e00f1227836.xml\n",
      "Image:/Users/amyasinghal/Downloads/Object Detection/TFODCourse/Tensorflow/workspace/images/collectedimages/westside/westside.5a6d1926-bebf-11ec-abec-1e00f1227836.jpg -> Annotation:/Users/amyasinghal/Downloads/Object Detection/TFODCourse/Tensorflow/workspace/images/collectedimages/westside/westside.5a6d1926-bebf-11ec-abec-1e00f1227836.xml\n",
      "Image:/Users/amyasinghal/Downloads/Object Detection/TFODCourse/Tensorflow/workspace/images/collectedimages/westside/westside.5bae726c-bebf-11ec-abec-1e00f1227836.jpg -> Annotation:/Users/amyasinghal/Downloads/Object Detection/TFODCourse/Tensorflow/workspace/images/collectedimages/westside/westside.5bae726c-bebf-11ec-abec-1e00f1227836.xml\n",
      "Image:/Users/amyasinghal/Downloads/Object Detection/TFODCourse/Tensorflow/workspace/images/collectedimages/westside/westside.5cee5610-bebf-11ec-abec-1e00f1227836.jpg -> Annotation:/Users/amyasinghal/Downloads/Object Detection/TFODCourse/Tensorflow/workspace/images/collectedimages/westside/westside.5cee5610-bebf-11ec-abec-1e00f1227836.xml\n",
      "Image:/Users/amyasinghal/Downloads/Object Detection/TFODCourse/Tensorflow/workspace/images/collectedimages/westside/westside.5e2dd910-bebf-11ec-abec-1e00f1227836.jpg -> Annotation:/Users/amyasinghal/Downloads/Object Detection/TFODCourse/Tensorflow/workspace/images/collectedimages/westside/westside.5e2dd910-bebf-11ec-abec-1e00f1227836.xml\n",
      "Image:/Users/amyasinghal/Downloads/Object Detection/TFODCourse/Tensorflow/workspace/images/collectedimages/westside/westside.14d9ab32-bebe-11ec-abec-1e00f1227836.jpg -> Annotation:/Users/amyasinghal/Downloads/Object Detection/TFODCourse/Tensorflow/workspace/images/collectedimages/westside/westside.14d9ab32-bebe-11ec-abec-1e00f1227836.xml\n",
      "Image:/Users/amyasinghal/Downloads/Object Detection/TFODCourse/Tensorflow/workspace/images/collectedimages/westside/westside.592ca2de-bebf-11ec-abec-1e00f1227836.jpg -> Annotation:/Users/amyasinghal/Downloads/Object Detection/TFODCourse/Tensorflow/workspace/images/collectedimages/westside/westside.592ca2de-bebf-11ec-abec-1e00f1227836.xml\n",
      "Image:/Users/amyasinghal/Downloads/Object Detection/TFODCourse/Tensorflow/workspace/images/collectedimages/westside/westside.1759d684-bebe-11ec-abec-1e00f1227836.jpg -> Annotation:/Users/amyasinghal/Downloads/Object Detection/TFODCourse/Tensorflow/workspace/images/collectedimages/westside/westside.1759d684-bebe-11ec-abec-1e00f1227836.xml\n",
      "Image:/Users/amyasinghal/Downloads/Object Detection/TFODCourse/Tensorflow/workspace/images/collectedimages/westside/westside.16190f24-bebe-11ec-abec-1e00f1227836.jpg -> Annotation:/Users/amyasinghal/Downloads/Object Detection/TFODCourse/Tensorflow/workspace/images/collectedimages/westside/westside.16190f24-bebe-11ec-abec-1e00f1227836.xml\n",
      "Image:/Users/amyasinghal/Downloads/Object Detection/TFODCourse/Tensorflow/workspace/images/collectedimages/westside/westside.125837c0-bebe-11ec-abec-1e00f1227836.jpg -> Annotation:/Users/amyasinghal/Downloads/Object Detection/TFODCourse/Tensorflow/workspace/images/collectedimages/westside/westside.125837c0-bebe-11ec-abec-1e00f1227836.xml\n"
     ]
    }
   ],
   "source": [
    "!cd {LABELIMG_PATH} && python labelImg.py"
   ]
  },
  {
   "cell_type": "markdown",
   "metadata": {},
   "source": [
    "# 6. Move them into a Training and Testing Partition"
   ]
  },
  {
   "cell_type": "markdown",
   "metadata": {},
   "source": [
    "# OPTIONAL - 7. Compress them for Colab Training"
   ]
  },
  {
   "cell_type": "code",
   "execution_count": 13,
   "metadata": {},
   "outputs": [],
   "source": [
    "TRAIN_PATH = os.path.join('Tensorflow', 'workspace', 'images', 'train')\n",
    "TEST_PATH = os.path.join('Tensorflow', 'workspace', 'images', 'test')\n",
    "ARCHIVE_PATH = os.path.join('Tensorflow', 'workspace', 'images', 'archive.tar.gz')"
   ]
  },
  {
   "cell_type": "code",
   "execution_count": 14,
   "metadata": {},
   "outputs": [
    {
     "name": "stdout",
     "output_type": "stream",
     "text": [
      "tar: Tensorflow/workspace/images/train: Cannot stat: No such file or directory\r\n",
      "tar: Tensorflow/workspace/images/test: Cannot stat: No such file or directory\r\n",
      "tar: Error exit delayed from previous errors.\r\n"
     ]
    }
   ],
   "source": [
    "!tar -czf {ARCHIVE_PATH} {TRAIN_PATH} {TEST_PATH}"
   ]
  },
  {
   "cell_type": "code",
   "execution_count": null,
   "metadata": {},
   "outputs": [],
   "source": []
  }
 ],
 "metadata": {
  "kernelspec": {
   "display_name": "tfod",
   "language": "python",
   "name": "tfod"
  },
  "language_info": {
   "codemirror_mode": {
    "name": "ipython",
    "version": 3
   },
   "file_extension": ".py",
   "mimetype": "text/x-python",
   "name": "python",
   "nbconvert_exporter": "python",
   "pygments_lexer": "ipython3",
   "version": "3.9.7"
  }
 },
 "nbformat": 4,
 "nbformat_minor": 2
}
